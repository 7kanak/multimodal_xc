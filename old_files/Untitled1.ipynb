{
 "cells": [
  {
   "cell_type": "code",
   "execution_count": 2,
   "id": "c62a77ce-abdc-451b-ae1a-7d8490d53739",
   "metadata": {},
   "outputs": [],
   "source": [
    "import fasttext"
   ]
  },
  {
   "cell_type": "code",
   "execution_count": 3,
   "id": "98458322-48aa-4406-90c6-1ecc21667509",
   "metadata": {},
   "outputs": [],
   "source": [
    "import pandas as pd"
   ]
  },
  {
   "cell_type": "code",
   "execution_count": 96,
   "id": "0db5133e-c220-4766-87d0-69740c35f889",
   "metadata": {},
   "outputs": [],
   "source": [
    "df = pd.read_csv(\"adbase_indexed_06062023.csv\")[[\"Actual_product\",\"Actual_category\",\"ML_Transcripted_text\",\t\"ML_Derived_category\"\t,\"ML_Derived_product\"]]"
   ]
  },
  {
   "cell_type": "code",
   "execution_count": 97,
   "id": "0c078e8c-3623-4d62-9710-780505594eba",
   "metadata": {},
   "outputs": [],
   "source": [
    "df = df.dropna()"
   ]
  },
  {
   "cell_type": "code",
   "execution_count": 98,
   "id": "6fa424fb-1043-4b59-99b0-19e6448b848e",
   "metadata": {},
   "outputs": [],
   "source": [
    "df = df[[\"ML_Transcripted_text\", \"Actual_product\"]]"
   ]
  },
  {
   "cell_type": "code",
   "execution_count": 99,
   "id": "50c1f29e-9fd8-448f-a9a8-444030fd3b1a",
   "metadata": {},
   "outputs": [],
   "source": [
    "df.columns = [\"transcript\", \"product\"]"
   ]
  },
  {
   "cell_type": "code",
   "execution_count": 100,
   "id": "0ac06edf-bda1-492a-8348-736b368f3300",
   "metadata": {},
   "outputs": [],
   "source": [
    "df[\"full_text\"] = df[\"transcript\"] + \" \" + df[\"product\"]"
   ]
  },
  {
   "cell_type": "code",
   "execution_count": 101,
   "id": "97f1a3cb-6647-4c2f-933d-e69c99f19543",
   "metadata": {},
   "outputs": [],
   "source": [
    "import nltk\n",
    "import re\n",
    "from nltk.corpus import stopwords\n",
    "import string"
   ]
  },
  {
   "cell_type": "code",
   "execution_count": null,
   "id": "36e35888-6daa-49fb-9a8e-cab29bcb0e09",
   "metadata": {},
   "outputs": [],
   "source": [
    "\n",
    "def clean_text(text):\n",
    "    # Remove punctuation\n",
    "    text = text.translate(str.maketrans('', '', string.punctuation))\n",
    "    \n",
    "    # Convert to lowercase\n",
    "    text = text.lower()\n",
    "    text = re.sub(r'\\d+', '', text)\n",
    "    text = re.sub(r'[^a-zA-Z\\s]', '', text)\n",
    "    # Tokenize the text\n",
    "    tokens = text.split()\n",
    "    \n",
    "    # Remove stopwords\n",
    "    # stop_words = set(stopwords.words('english'))\n",
    "    stop_words = {}\n",
    "    tokens = [token for token in tokens if token not in stop_words]\n",
    "    \n",
    "    # Join the tokens back into a single string\n",
    "    cleaned_text = ' '.join(tokens)\n",
    "    text = text.strip()\n",
    "    return cleaned_text\n",
    "\n",
    "df[\"transcript\"] = df[\"transcript\"].apply(clean_text)"
   ]
  },
  {
   "cell_type": "code",
   "execution_count": 105,
   "id": "8d246345-11d2-4e42-b651-a748b7ba27f5",
   "metadata": {},
   "outputs": [],
   "source": [
    "df[\"product\"] = df[\"product\"].apply(clean_text)"
   ]
  },
  {
   "cell_type": "code",
   "execution_count": 106,
   "id": "a5daf427-6727-4e51-b730-c8aa24abe86b",
   "metadata": {},
   "outputs": [],
   "source": [
    "df[\"full_text\"] = df[\"full_text\"].apply(clean_text)"
   ]
  },
  {
   "cell_type": "code",
   "execution_count": 107,
   "id": "37d4c53f-10c9-44da-9668-c9ac1caa46f7",
   "metadata": {},
   "outputs": [],
   "source": [
    "label_mapping = {i:idx for idx, i in enumerate(list(set(df['product'])))}"
   ]
  },
  {
   "cell_type": "code",
   "execution_count": 108,
   "id": "fb209003-1565-4294-80f5-be20e6a96b0a",
   "metadata": {},
   "outputs": [],
   "source": [
    "df[\"label\"] = df[\"product\"].apply(lambda x: [label_mapping[x]])"
   ]
  },
  {
   "cell_type": "code",
   "execution_count": 136,
   "id": "ef703b4c-c95c-436d-a646-a9ce5d2b9552",
   "metadata": {},
   "outputs": [],
   "source": [
    "df = df.reset_index(drop=True)"
   ]
  },
  {
   "cell_type": "code",
   "execution_count": 154,
   "id": "4f5ec39d-10ef-44fe-955e-c9025c4ce789",
   "metadata": {},
   "outputs": [
    {
     "data": {
      "text/plain": [
       "('come on not again seriously amazing i feel stuck here but i cant afford to leave dont bridge your day job at least not yet you cant afford to reskill keep your job and study online with robertson you can get out of a jam and find a meaningful career you love get your diploma without missing a paycheck',\n",
       " 'robertson college')"
      ]
     },
     "execution_count": 154,
     "metadata": {},
     "output_type": "execute_result"
    }
   ],
   "source": [
    "trn.iloc[0][\"transcript\"], tst.iloc[0][\"product\"]"
   ]
  },
  {
   "cell_type": "code",
   "execution_count": 156,
   "id": "2cb793e6-dcaf-4e93-99c6-0a518817ea10",
   "metadata": {},
   "outputs": [
    {
     "data": {
      "text/html": [
       "<div>\n",
       "<style scoped>\n",
       "    .dataframe tbody tr th:only-of-type {\n",
       "        vertical-align: middle;\n",
       "    }\n",
       "\n",
       "    .dataframe tbody tr th {\n",
       "        vertical-align: top;\n",
       "    }\n",
       "\n",
       "    .dataframe thead th {\n",
       "        text-align: right;\n",
       "    }\n",
       "</style>\n",
       "<table border=\"1\" class=\"dataframe\">\n",
       "  <thead>\n",
       "    <tr style=\"text-align: right;\">\n",
       "      <th></th>\n",
       "      <th>transcript</th>\n",
       "      <th>product</th>\n",
       "      <th>full_text</th>\n",
       "      <th>label</th>\n",
       "    </tr>\n",
       "  </thead>\n",
       "  <tbody>\n",
       "    <tr>\n",
       "      <th>415</th>\n",
       "      <td>the</td>\n",
       "      <td>kesimpta medication</td>\n",
       "      <td>the kesimpta medication</td>\n",
       "      <td>[70]</td>\n",
       "    </tr>\n",
       "    <tr>\n",
       "      <th>314</th>\n",
       "      <td>fasten your seatbelts your email campaigns are...</td>\n",
       "      <td>tonybet sports betting casino</td>\n",
       "      <td>fasten your seatbelts your email campaigns are...</td>\n",
       "      <td>[222]</td>\n",
       "    </tr>\n",
       "  </tbody>\n",
       "</table>\n",
       "</div>"
      ],
      "text/plain": [
       "                                            transcript  \\\n",
       "415                                                the   \n",
       "314  fasten your seatbelts your email campaigns are...   \n",
       "\n",
       "                           product  \\\n",
       "415            kesimpta medication   \n",
       "314  tonybet sports betting casino   \n",
       "\n",
       "                                             full_text  label  \n",
       "415                            the kesimpta medication   [70]  \n",
       "314  fasten your seatbelts your email campaigns are...  [222]  "
      ]
     },
     "execution_count": 156,
     "metadata": {},
     "output_type": "execute_result"
    }
   ],
   "source": [
    "trn.head(2)"
   ]
  },
  {
   "cell_type": "code",
   "execution_count": 110,
   "id": "121eca01-6052-4ac2-a017-c65497397ab2",
   "metadata": {},
   "outputs": [],
   "source": [
    "from sklearn.model_selection import train_test_split\n",
    "from xclib.utils.text import BoWFeatures\n",
    "import numpy as np\n",
    "from xclib.utils.sparse import ll_to_sparse\n",
    "from xclib.data import data_utils"
   ]
  },
  {
   "cell_type": "code",
   "execution_count": 143,
   "id": "9de2def6-fc97-467a-ac7f-5a91d54d0fc4",
   "metadata": {},
   "outputs": [],
   "source": [
    "trn, tst = train_test_split(df, test_size=0.2)"
   ]
  },
  {
   "cell_type": "code",
   "execution_count": 150,
   "id": "eb3a5563-8710-4a1f-b7ba-3eb480253a1e",
   "metadata": {},
   "outputs": [],
   "source": [
    "def get_bow_fex(trn_text, encoding='latin', min_df=3, dtype=np.float32):\n",
    "    fex = BoWFeatures(encoding=encoding, min_df=min_df, dtype=dtype)\n",
    "    fex.fit(trn_text)\n",
    "    return fex"
   ]
  },
  {
   "cell_type": "code",
   "execution_count": 151,
   "id": "7f902a48-e050-45dc-ab08-787f699c7ca3",
   "metadata": {},
   "outputs": [],
   "source": [
    "def transform_text(fex, transcript_train, transcript_test, product_train, product_test):\n",
    "    Xf_train = fex.transform(transcript_train)\n",
    "    Xf_test = fex.transform(transcript_test)\n",
    "    yf_train = fex.transform(product_train)\n",
    "    yf_test = fex.transform(product_test)\n",
    "\n",
    "    return Xf_train, Xf_test, yf_train, yf_test\n",
    "\n",
    "def max_feature_index(trn_labels, tst_labels):\n",
    "    max_ind = max([max(item) for item in trn_labels])\n",
    "    return max(max_ind, max([max(item) for item in tst_labels]))"
   ]
  },
  {
   "cell_type": "code",
   "execution_count": 157,
   "id": "a33efeae-a555-4289-8c47-178f9ddeb1f4",
   "metadata": {},
   "outputs": [],
   "source": [
    "def save_feat(trn, test):\n",
    "    fex = get_bow_fex(trn[\"full_text\"].to_list())\n",
    "    Xf_train, Xf_test, yf_train, yf_test = transform_text(fex, trn[\"transcript\"].to_list(),\n",
    "                                                           tst[\"transcript\"].to_list(),\n",
    "                                                        trn[\"product\"].to_list(),\n",
    "                                                         tst[\"product\"].to_list()\n",
    "                                                        )\n",
    "    trn_labels = trn[\"label\"].to_list()\n",
    "    tst_labels = tst[\"label\"].to_list()\n",
    "    \n",
    "    max_ind = max_feature_index(trn_labels, tst_labels)\n",
    "    print(max_ind)\n",
    "    \n",
    "    trn_labels = ll_to_sparse(\n",
    "        trn_labels, shape=(len(trn_labels), max_ind))\n",
    "    tst_labels = ll_to_sparse(\n",
    "        tst_labels, shape=(len(tst_labels), max_ind))\n",
    "\n",
    "    data_utils.write_data(\"train.txt\", Xf_train, trn_labels)\n",
    "    data_utils.write_data(\"test.txt\", Xf_test, tst_labels)\n",
    "    return fex"
   ]
  },
  {
   "cell_type": "code",
   "execution_count": null,
   "id": "9bbec308-bb10-4717-b731-684e4ab0173a",
   "metadata": {},
   "outputs": [],
   "source": [
    "!perl convert_format.pl train.txt new_data/trn_X_Xf.txt new_data/trn_X_Y.txt\n",
    "!perl convert_format.pl test.txt new_data/tst_X_Xf.txt new_data/tst_X_Y.txt"
   ]
  },
  {
   "cell_type": "code",
   "execution_count": 165,
   "id": "bdc2b3de-1d85-4942-a283-8159460faea1",
   "metadata": {},
   "outputs": [],
   "source": [
    "vocab_list = list(sorted(list(fex.vocabulary_.keys()),  key=lambda x: fex.vocabulary_[x]))"
   ]
  },
  {
   "cell_type": "code",
   "execution_count": 168,
   "id": "a79ceff1-a1e1-4a59-ad32-19a704f584a3",
   "metadata": {},
   "outputs": [],
   "source": [
    "with open(\"new_data/Xf.txt\", \"w\") as f:\n",
    "    for item in vocab_list:\n",
    "        f.write(item + '\\n')"
   ]
  },
  {
   "cell_type": "code",
   "execution_count": 169,
   "id": "1b115864-4ded-43d3-8883-96758509163b",
   "metadata": {},
   "outputs": [],
   "source": [
    "import sys\n",
    "import re\n",
    "from xclib.embeddings.fasttext_embeddings import load_model, get_vectors\n",
    "import numpy as np"
   ]
  },
  {
   "cell_type": "code",
   "execution_count": 170,
   "id": "c9d6eee6-2da3-4979-bef2-d388397c8d1c",
   "metadata": {},
   "outputs": [],
   "source": [
    "def preprocess(line):\n",
    "    line = line.rstrip()\n",
    "    return re.sub(r\" \", \"_\", line)\n",
    "\n",
    "\n",
    "def load_vocabulary(infile):\n",
    "    with open(infile, 'r',encoding='latin-1') as fp:\n",
    "        vocabulary = fp.readlines()\n",
    "    return [preprocess(item) for item in vocabulary]\n"
   ]
  },
  {
   "cell_type": "code",
   "execution_count": 171,
   "id": "4dcbb381-72bf-4307-b0f6-7077c2a6af15",
   "metadata": {},
   "outputs": [
    {
     "name": "stderr",
     "output_type": "stream",
     "text": [
      "Warning : `load_model` does not return WordVectorModel or SupervisedModel any more, but a `FastText` object which is very similar.\n"
     ]
    },
    {
     "ename": "ValueError",
     "evalue": "wiki.en.bin cannot be opened for loading!",
     "output_type": "error",
     "traceback": [
      "\u001b[0;31m---------------------------------------------------------------------------\u001b[0m",
      "\u001b[0;31mValueError\u001b[0m                                Traceback (most recent call last)",
      "Cell \u001b[0;32mIn[171], line 1\u001b[0m\n\u001b[0;32m----> 1\u001b[0m model \u001b[38;5;241m=\u001b[39m \u001b[43mload_model\u001b[49m\u001b[43m(\u001b[49m\u001b[38;5;124;43m'\u001b[39;49m\u001b[38;5;124;43mwiki.en.bin\u001b[39;49m\u001b[38;5;124;43m'\u001b[39;49m\u001b[43m)\u001b[49m\n",
      "File \u001b[0;32m~/.local/share/virtualenvs/multimodal_xc-1Az5h_ZU/lib/python3.10/site-packages/xclib/embeddings/fasttext_embeddings.py:46\u001b[0m, in \u001b[0;36mload_model\u001b[0;34m(fname)\u001b[0m\n\u001b[1;32m     30\u001b[0m \u001b[38;5;250m\u001b[39m\u001b[38;5;124;03m\"\"\"\u001b[39;00m\n\u001b[1;32m     31\u001b[0m \u001b[38;5;124;03mCompute fasttext embeddings for a given vovabulary file\u001b[39;00m\n\u001b[1;32m     32\u001b[0m \u001b[38;5;124;03m\u001b[39;00m\n\u001b[0;32m   (...)\u001b[0m\n\u001b[1;32m     43\u001b[0m \u001b[38;5;124;03m        Fasttext model\u001b[39;00m\n\u001b[1;32m     44\u001b[0m \u001b[38;5;124;03m\"\"\"\u001b[39;00m\n\u001b[1;32m     45\u001b[0m \u001b[38;5;66;03m# Return fasttext model\u001b[39;00m\n\u001b[0;32m---> 46\u001b[0m \u001b[38;5;28;01mreturn\u001b[39;00m \u001b[43mfasttext\u001b[49m\u001b[38;5;241;43m.\u001b[39;49m\u001b[43mload_model\u001b[49m\u001b[43m(\u001b[49m\u001b[43mfname\u001b[49m\u001b[43m)\u001b[49m\n",
      "File \u001b[0;32m~/.local/share/virtualenvs/multimodal_xc-1Az5h_ZU/lib/python3.10/site-packages/fasttext/FastText.py:441\u001b[0m, in \u001b[0;36mload_model\u001b[0;34m(path)\u001b[0m\n\u001b[1;32m    439\u001b[0m \u001b[38;5;250m\u001b[39m\u001b[38;5;124;03m\"\"\"Load a model given a filepath and return a model object.\"\"\"\u001b[39;00m\n\u001b[1;32m    440\u001b[0m eprint(\u001b[38;5;124m\"\u001b[39m\u001b[38;5;124mWarning : `load_model` does not return WordVectorModel or SupervisedModel any more, but a `FastText` object which is very similar.\u001b[39m\u001b[38;5;124m\"\u001b[39m)\n\u001b[0;32m--> 441\u001b[0m \u001b[38;5;28;01mreturn\u001b[39;00m \u001b[43m_FastText\u001b[49m\u001b[43m(\u001b[49m\u001b[43mmodel_path\u001b[49m\u001b[38;5;241;43m=\u001b[39;49m\u001b[43mpath\u001b[49m\u001b[43m)\u001b[49m\n",
      "File \u001b[0;32m~/.local/share/virtualenvs/multimodal_xc-1Az5h_ZU/lib/python3.10/site-packages/fasttext/FastText.py:98\u001b[0m, in \u001b[0;36m_FastText.__init__\u001b[0;34m(self, model_path, args)\u001b[0m\n\u001b[1;32m     96\u001b[0m \u001b[38;5;28mself\u001b[39m\u001b[38;5;241m.\u001b[39mf \u001b[38;5;241m=\u001b[39m fasttext\u001b[38;5;241m.\u001b[39mfasttext()\n\u001b[1;32m     97\u001b[0m \u001b[38;5;28;01mif\u001b[39;00m model_path \u001b[38;5;129;01mis\u001b[39;00m \u001b[38;5;129;01mnot\u001b[39;00m \u001b[38;5;28;01mNone\u001b[39;00m:\n\u001b[0;32m---> 98\u001b[0m     \u001b[38;5;28;43mself\u001b[39;49m\u001b[38;5;241;43m.\u001b[39;49m\u001b[43mf\u001b[49m\u001b[38;5;241;43m.\u001b[39;49m\u001b[43mloadModel\u001b[49m\u001b[43m(\u001b[49m\u001b[43mmodel_path\u001b[49m\u001b[43m)\u001b[49m\n\u001b[1;32m     99\u001b[0m \u001b[38;5;28mself\u001b[39m\u001b[38;5;241m.\u001b[39m_words \u001b[38;5;241m=\u001b[39m \u001b[38;5;28;01mNone\u001b[39;00m\n\u001b[1;32m    100\u001b[0m \u001b[38;5;28mself\u001b[39m\u001b[38;5;241m.\u001b[39m_labels \u001b[38;5;241m=\u001b[39m \u001b[38;5;28;01mNone\u001b[39;00m\n",
      "\u001b[0;31mValueError\u001b[0m: wiki.en.bin cannot be opened for loading!"
     ]
    }
   ],
   "source": [
    "model = load_model('wiki.en.bin')"
   ]
  },
  {
   "cell_type": "code",
   "execution_count": null,
   "id": "f3f1f86c-8bcf-4507-9a73-6c002c9bc77f",
   "metadata": {},
   "outputs": [],
   "source": []
  }
 ],
 "metadata": {
  "kernelspec": {
   "display_name": "Python 3 (ipykernel)",
   "language": "python",
   "name": "python3"
  },
  "language_info": {
   "codemirror_mode": {
    "name": "ipython",
    "version": 3
   },
   "file_extension": ".py",
   "mimetype": "text/x-python",
   "name": "python",
   "nbconvert_exporter": "python",
   "pygments_lexer": "ipython3",
   "version": "3.10.6"
  }
 },
 "nbformat": 4,
 "nbformat_minor": 5
}
